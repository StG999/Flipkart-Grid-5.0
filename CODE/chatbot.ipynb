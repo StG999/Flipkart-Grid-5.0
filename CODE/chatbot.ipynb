{
 "cells": [
  {
   "attachments": {},
   "cell_type": "markdown",
   "metadata": {},
   "source": [
    "## Demo"
   ]
  },
  {
   "cell_type": "code",
   "execution_count": 7,
   "metadata": {},
   "outputs": [],
   "source": [
    "from chatbot import *"
   ]
  },
  {
   "cell_type": "code",
   "execution_count": 8,
   "metadata": {},
   "outputs": [],
   "source": [
    "chatbot = Chatbot()"
   ]
  },
  {
   "cell_type": "code",
   "execution_count": 9,
   "metadata": {},
   "outputs": [
    {
     "data": {
      "text/plain": [
       "\"\\nThe generated outfit recommendations should be complete and well-coordinated, including clothing, accessories, and footwear etc. \\nYou should consider factors such as the user's body type, occasion (e.g., casual, formal, party), and regional and age preferences (Ex. Young 20\\nyear old woman looking for a Diwali outfit in Mumbai should be different to 35 year old woman in Muzzafarpur looking for a Karwa Chauth outfit) \\nto offer appropriate and versatile outfit suggestions. \\nUsers should also be able to interact with the outfit generator to give it feedback in terms of what they like, \\ndont like and be able to tweak the outfits in the manner of a conversation (Ex. I like the top, but the jhumkas are boring, give me something else).\\n\""
      ]
     },
     "execution_count": 9,
     "metadata": {},
     "output_type": "execute_result"
    }
   ],
   "source": [
    "\"\"\"\n",
    "The generated outfit recommendations should be complete and well-coordinated, including clothing, accessories, and footwear etc. \n",
    "You should consider factors such as the user's body type, occasion (e.g., casual, formal, party), and regional and age preferences (Ex. Young 20\n",
    "year old woman looking for a Diwali outfit in Mumbai should be different to 35 year old woman in Muzzafarpur looking for a Karwa Chauth outfit) \n",
    "to offer appropriate and versatile outfit suggestions. \n",
    "Users should also be able to interact with the outfit generator to give it feedback in terms of what they like, \n",
    "dont like and be able to tweak the outfits in the manner of a conversation (Ex. I like the top, but the jhumkas are boring, give me something else).\n",
    "\"\"\""
   ]
  },
  {
   "cell_type": "code",
   "execution_count": 10,
   "metadata": {},
   "outputs": [],
   "source": [
    "chatbot.bold_delimiter = \"*\"\n",
    "chatbot.system_prompt_template = f'''\n",
    "        You are a {chatbot.role}.\n",
    "        You will be provided with some context which is delimited by {chatbot.context_delimiter} and a user query.\n",
    "        Your role is to assist customers by generating outfit recommendation for the type of clothes they are looking for based on the query.\n",
    "        The generated outfit recommendations should be complete and well-coordinated, including clothing, accessories, and footwear etc. \n",
    "        You should consider factors such as the user's body type, occasion (example: casual, formal, party), and regional and age preferences (example: Young 20\n",
    "        year old woman looking for a party outfit in Paris should be different to 35 year old woman in New Delhi looking for a Traditional wedding outfit) \n",
    "        to offer appropriate and versatile outfit suggestions. \n",
    "        Users should also be able to interact with the outfit generator to give it feedbamsgck in terms of what they like, \n",
    "        dont like and be able to tweak the outfits in the manner of a conversation (example: I like the top, but the earings are boring, give me something else).\n",
    "\n",
    "        Your response for each outfit should be in the given format:\n",
    "        {chatbot.context_delimiter} <outfit description> {chatbot.context_delimiter}\n",
    "        '''"
   ]
  },
  {
   "cell_type": "code",
   "execution_count": 11,
   "metadata": {},
   "outputs": [],
   "source": [
    "chatbot.set_model(\"gpt-3.5-turbo-0613\")\n",
    "chatbot.set_temperature(0.3)\n",
    "chatbot.len_chat_history = 4"
   ]
  },
  {
   "cell_type": "code",
   "execution_count": 12,
   "metadata": {},
   "outputs": [
    {
     "name": "stdout",
     "output_type": "stream",
     "text": [
      "Running on local URL:  http://127.0.0.1:7862\n",
      "\n",
      "To create a public link, set `share=True` in `launch()`.\n"
     ]
    },
    {
     "data": {
      "text/html": [
       "<div><iframe src=\"http://127.0.0.1:7862/\" width=\"100%\" height=\"500\" allow=\"autoplay; camera; microphone; clipboard-read; clipboard-write;\" frameborder=\"0\" allowfullscreen></iframe></div>"
      ],
      "text/plain": [
       "<IPython.core.display.HTML object>"
      ]
     },
     "metadata": {},
     "output_type": "display_data"
    }
   ],
   "source": [
    "chatbot.launch()"
   ]
  }
 ],
 "metadata": {
  "kernelspec": {
   "display_name": "Python 3 (ipykernel)",
   "language": "python",
   "name": "python3"
  },
  "language_info": {
   "codemirror_mode": {
    "name": "ipython",
    "version": 3
   },
   "file_extension": ".py",
   "mimetype": "text/x-python",
   "name": "python",
   "nbconvert_exporter": "python",
   "pygments_lexer": "ipython3",
   "version": "3.11.3"
  }
 },
 "nbformat": 4,
 "nbformat_minor": 4
}
